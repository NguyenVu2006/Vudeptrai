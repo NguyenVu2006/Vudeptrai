{
  "cells": [
    {
      "cell_type": "markdown",
      "metadata": {
        "id": "view-in-github",
        "colab_type": "text"
      },
      "source": [
        "<a href=\"https://colab.research.google.com/github/NguyenVu2006/Vudeptrai/blob/main/Welcome_To_Colab.ipynb\" target=\"_parent\"><img src=\"https://colab.research.google.com/assets/colab-badge.svg\" alt=\"Open In Colab\"/></a>"
      ]
    },
    {
      "cell_type": "code",
      "source": [
        "def Calculate_bmi(weight, height):\n",
        "    # Tính chỉ số BMI\n",
        "    bmi = weight / (height ** 2)\n",
        "\n",
        "    # Xác định phân loại BMI\n",
        "    if bmi < 18.5:\n",
        "        category = \"underweight\"\n",
        "    elif 18.5 <= bmi < 25:\n",
        "        category = \"healthy weight\"\n",
        "    elif 25 <= bmi < 30:\n",
        "        category = \"overweight\"\n",
        "    else:\n",
        "        category = \"obesity\"\n",
        "\n",
        "    # In ra kết quả\n",
        "    print(f\"Your BMI is {bmi:.3f} and it falls within the {category} range\")\n",
        "    return bmi\n",
        "\n",
        "# Nhập cân nặng và chiều cao từ người dùng\n",
        "weight = float(input(\"Nhập cân nặng của bạn (kg): \"))\n",
        "height = float(input(\"Nhập chiều cao của bạn (m): \"))\n",
        "Calculate_bmi(weight, height)\n",
        "\n",
        "\n",
        "\n"
      ],
      "metadata": {
        "id": "5sdZUMnsokVO",
        "outputId": "a4481e2e-7884-462d-f885-97a44ee213c3",
        "colab": {
          "base_uri": "https://localhost:8080/"
        }
      },
      "execution_count": 57,
      "outputs": [
        {
          "output_type": "stream",
          "name": "stdout",
          "text": [
            "Nhập cân nặng của bạn (kg): 50\n",
            "Nhập chiều cao của bạn (m): 1.70\n",
            "Your BMI is 17.301 and it falls within the underweight range\n"
          ]
        },
        {
          "output_type": "execute_result",
          "data": {
            "text/plain": [
              "17.301038062283737"
            ]
          },
          "metadata": {},
          "execution_count": 57
        }
      ]
    }
  ],
  "metadata": {
    "colab": {
      "name": "Welcome To Colab",
      "provenance": [],
      "include_colab_link": true
    },
    "kernelspec": {
      "display_name": "Python 3",
      "name": "python3"
    }
  },
  "nbformat": 4,
  "nbformat_minor": 0
}