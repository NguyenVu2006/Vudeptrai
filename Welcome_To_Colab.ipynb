{
  "cells": [
    {
      "cell_type": "markdown",
      "metadata": {
        "id": "view-in-github",
        "colab_type": "text"
      },
      "source": [
        "<a href=\"https://colab.research.google.com/github/NguyenVu2006/Vudeptrai/blob/main/Welcome_To_Colab.ipynb\" target=\"_parent\"><img src=\"https://colab.research.google.com/assets/colab-badge.svg\" alt=\"Open In Colab\"/></a>"
      ]
    },
    {
      "cell_type": "code",
      "source": [
        "def calculate_statistics():\n",
        "    while True:\n",
        "        try:\n",
        "            a = float(input(\"Nhập số thứ nhất: \"))\n",
        "            b = float(input(\"Nhập số thứ hai: \"))\n",
        "            c = float(input(\"Nhập số thứ ba: \"))\n",
        "\n",
        "            if a == b or a == c or b == c:\n",
        "                print(\"Ba số phải khác nhau. Vui lòng nhập lại.\")\n",
        "                continue\n",
        "\n",
        "            trung_binh = (a + b + c) / 3\n",
        "\n",
        "            danh_sach = [a, b, c]\n",
        "            danh_sach.sort()\n",
        "            trung_vi = danh_sach[1]\n",
        "\n",
        "            khoang = max(danh_sach) - min(danh_sach)\n",
        "\n",
        "            print(\"Trung bình:\", trung_binh)\n",
        "            print(\"Trung vị:\", trung_vi)\n",
        "            print(\"Khoảng:\", khoang)\n",
        "            break\n",
        "\n",
        "        except:\n",
        "            print(\"mày đã nhập sai. Vui lòng nhập lại 3 số khác nhau.\")\n",
        "calculate_statistics()\n",
        "8\n",
        "\n"
      ],
      "metadata": {
        "colab": {
          "base_uri": "https://localhost:8080/"
        },
        "id": "Fp87NYSHnF3O",
        "outputId": "0e2c3246-ca23-417f-9fa3-784be4af3463"
      },
      "execution_count": 24,
      "outputs": [
        {
          "output_type": "stream",
          "name": "stdout",
          "text": [
            "Nhập số thứ nhất: 7\n",
            "Nhập số thứ hai: \n",
            "mày đã nhập sai. Vui lòng nhập lại 3 số khác nhau.\n",
            "Nhập số thứ nhất: 9\n",
            "Nhập số thứ hai: 8\n",
            "Nhập số thứ ba: 7\n",
            "Trung bình: 8.0\n",
            "Trung vị: 8.0\n",
            "Khoảng: 2.0\n"
          ]
        }
      ]
    }
  ],
  "metadata": {
    "colab": {
      "name": "Welcome To Colab",
      "toc_visible": true,
      "provenance": [],
      "include_colab_link": true
    },
    "kernelspec": {
      "display_name": "Python 3",
      "name": "python3"
    }
  },
  "nbformat": 4,
  "nbformat_minor": 0
}