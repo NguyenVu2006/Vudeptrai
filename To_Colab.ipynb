{
  "cells": [
    {
      "cell_type": "markdown",
      "metadata": {
        "id": "view-in-github",
        "colab_type": "text"
      },
      "source": [
        "<a href=\"https://colab.research.google.com/github/NguyenVu2006/Vudeptrai/blob/main/To_Colab.ipynb\" target=\"_parent\"><img src=\"https://colab.research.google.com/assets/colab-badge.svg\" alt=\"Open In Colab\"/></a>"
      ]
    },
    {
      "cell_type": "code",
      "source": [
        "def calculator():\n",
        "    try:\n",
        "        # Nhập hai số từ người dùng\n",
        "        num1 = float(input(\"Enter the first number: \"))\n",
        "        num2 = float(input(\"Enter the second number: \"))\n",
        "\n",
        "        # Nhập toán tử\n",
        "        operator = input(\"Enter an operator (+, -, *, /): \")\n",
        "\n",
        "        # Thực hiện phép tính\n",
        "        if operator == '+':\n",
        "            result = num1 + num2\n",
        "            print(f\"The result is: {result}\")\n",
        "        elif operator == '-':\n",
        "            result = num1 - num2\n",
        "            print(f\"The result is: {result}\")\n",
        "        elif operator == '*':\n",
        "            result = num1 * num2\n",
        "            print(f\"The result is: {result}\")\n",
        "        elif operator == '/':\n",
        "            if num2 != 0:\n",
        "                result = num1 / num2\n",
        "                print(f\"The result is: {result}\")\n",
        "            else:\n",
        "                print(\"Error: Cannot divide by zero.\")\n",
        "        else:\n",
        "            print(\"Invalid operator. Please use +, -, *, or /.\")\n",
        "    except ValueError:\n",
        "        print(\"Error: Please enter valid numbers.\")\n",
        "\n",
        "# Gọi hàm\n",
        "calculator()"
      ],
      "metadata": {
        "colab": {
          "base_uri": "https://localhost:8080/"
        },
        "id": "APQG2nuIx2Yr",
        "outputId": "a3c4b2b7-e5d7-487b-ca50-9fbf0d09354a"
      },
      "execution_count": 75,
      "outputs": [
        {
          "output_type": "stream",
          "name": "stdout",
          "text": [
            "Enter the first number: 40\n",
            "Enter the second number: 40\n",
            "Enter an operator (+, -, *, /): +\n",
            "The result is: 80.0\n"
          ]
        }
      ]
    }
  ],
  "metadata": {
    "colab": {
      "name": "Welcome To Colab",
      "provenance": [],
      "include_colab_link": true
    },
    "kernelspec": {
      "display_name": "Python 3",
      "name": "python3"
    }
  },
  "nbformat": 4,
  "nbformat_minor": 0
}